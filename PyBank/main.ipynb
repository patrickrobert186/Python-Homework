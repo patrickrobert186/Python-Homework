{
 "cells": [
  {
   "cell_type": "code",
   "execution_count": 1,
   "id": "latin-assignment",
   "metadata": {},
   "outputs": [
    {
     "name": "stdout",
     "output_type": "stream",
     "text": [
      "Current Working Directory: /Users/patrickgibbons/Documents/Python-Homework\n"
     ]
    }
   ],
   "source": [
    "#import the data \n",
    "\n",
    "from pathlib import Path\n",
    "\n",
    "print(f\"Current Working Directory: {Path.cwd()}\")\n",
    "\n",
    "import csv"
   ]
  },
  {
   "cell_type": "code",
   "execution_count": 2,
   "id": "grateful-domestic",
   "metadata": {},
   "outputs": [
    {
     "name": "stdout",
     "output_type": "stream",
     "text": [
      "budget_data.csv\n"
     ]
    }
   ],
   "source": [
    "# read the csv file with the budget data\n",
    "# define the file path as a varialbe.  \n",
    "\n",
    "csvpath = Path(\"budget_data.csv\")\n",
    "print(csvpath)"
   ]
  },
  {
   "cell_type": "code",
   "execution_count": 3,
   "id": "partial-preference",
   "metadata": {},
   "outputs": [],
   "source": [
    "# Initialize the directory\n",
    "# the list_of_change of subtracting the current month profit \n",
    "# from the previous month profit/loss\n",
    "\n",
    "analysis = {}\n",
    "\n",
    "list_of_change = []\n"
   ]
  },
  {
   "cell_type": "code",
   "execution_count": 28,
   "id": "returning-screen",
   "metadata": {},
   "outputs": [
    {
     "name": "stdout",
     "output_type": "stream",
     "text": [
      "The smallest change is -2196167\n",
      "The average daily change is -2315\n",
      "The biggest change in daily profits is 1926159\n",
      "The data set covers 86 months of trading data\n",
      "At the end, the trading profits totaled 38382578\n"
     ]
    }
   ],
   "source": [
    "#initilize the variables\n",
    "# number_of_months set to 1 because the first row was not\n",
    "# being counts\n",
    "\n",
    "number_of_months = 1\n",
    "change_profit_loss = 0\n",
    "total_profit = 0\n",
    "daily_profit = 0 \n",
    "# prev_pandl = 0\n",
    "\n",
    "\n",
    "# Open the csvfile\n",
    "#store the contents in the variable \n",
    "\n",
    "with open(csvpath, \"r\") as csvfile:\n",
    "    \n",
    "    # pass in the csv file to the csv funtion\n",
    "    # do not need the delimeter in this case \n",
    "    # but here is the function\n",
    "    #    csvreader = csv.reader(csvfile, delimiter=\",\" )\n",
    "    csvreader = csv.reader(csvfile)\n",
    "   \n",
    "    #read the header\n",
    "    csv_header = next(csvreader)\n",
    "    \n",
    "    #prev_pandl is needed to complete the calculation \n",
    "    #in the following row.  \n",
    "    prev_pandl = int(next(csvreader)[1])\n",
    "    total_profit += prev_pandl \n",
    "    \n",
    "    #append is used to store the output of the caclulation\n",
    "    #\n",
    "    #code to print  print(csv_header)\n",
    "    csv_header.append(\"Change Profit Loss\")\n",
    "    csv_header.append(\"total_profit_loss\")\n",
    "    #print(csv_header)\n",
    " \n",
    "    #for loop to count the number of months\n",
    "    #then sum up the total profits\n",
    "    for line in csvreader:\n",
    "        number_of_months += 1 \n",
    "        total_profit = total_profit + int(line[1])\n",
    "        #calculate daily change current profit/loss\n",
    "        # - prev_pandl. perv_pandl is from setting the\n",
    "        # variable above\n",
    "        daily_change = int(line[1]) - prev_pandl\n",
    "        #put the daily_change into a libray with append\n",
    "        list_of_change.append(daily_change)\n",
    "#         print('daily change at',line[0], 'to be', daily_change)\n",
    "        #for calculation on next row reset prev_pandl \n",
    "        prev_pandl = int(line[1])\n",
    "\n",
    "    #calulate the average, and select the min and max\n",
    "    #len means lenght of the list, or dimension, how many? \n",
    "    average_daily_change = sum(list_of_change) / (len(list_of_change)) \n",
    "    minimum_of_change = min(list_of_change)\n",
    "    max_of_change = max(list_of_change)\n",
    "print(\"The smallest change is\", minimum_of_change)\n",
    "print(\"The average daily change is\", int(average_daily_change))\n",
    "print(\"The biggest change in daily profits is\", max_of_change)\n",
    "\n",
    " \n",
    "\n",
    "\n",
    "print(\"The data set covers\", number_of_months, \"months of trading data\")\n",
    "print(\"At the end, the trading profits totaled\", total_profit)\n",
    "\n",
    "        \n",
    "\n",
    "\n",
    "\n",
    "\n",
    "  \n",
    "    \n",
    "\n",
    "    \n",
    "\n",
    "    \n",
    "    "
   ]
  },
  {
   "cell_type": "code",
   "execution_count": null,
   "id": "collect-animation",
   "metadata": {},
   "outputs": [],
   "source": []
  },
  {
   "cell_type": "code",
   "execution_count": null,
   "id": "mechanical-spelling",
   "metadata": {},
   "outputs": [],
   "source": []
  },
  {
   "cell_type": "code",
   "execution_count": 9,
   "id": "passing-aggregate",
   "metadata": {},
   "outputs": [],
   "source": []
  },
  {
   "cell_type": "code",
   "execution_count": null,
   "id": "senior-corpus",
   "metadata": {},
   "outputs": [],
   "source": []
  }
 ],
 "metadata": {
  "kernelspec": {
   "display_name": "Python 3",
   "language": "python",
   "name": "python3"
  },
  "language_info": {
   "codemirror_mode": {
    "name": "ipython",
    "version": 3
   },
   "file_extension": ".py",
   "mimetype": "text/x-python",
   "name": "python",
   "nbconvert_exporter": "python",
   "pygments_lexer": "ipython3",
   "version": "3.8.5"
  }
 },
 "nbformat": 4,
 "nbformat_minor": 5
}
