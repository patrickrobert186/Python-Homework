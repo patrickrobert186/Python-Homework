{
 "cells": [
  {
   "cell_type": "code",
   "execution_count": 1,
   "id": "moderate-stock",
   "metadata": {},
   "outputs": [
    {
     "name": "stdout",
     "output_type": "stream",
     "text": [
      "Current Working Directory: /Users/patrickgibbons/Documents/Python-Homework\n"
     ]
    }
   ],
   "source": [
    "#import the data \n",
    "\n",
    "from pathlib import Path\n",
    "\n",
    "\n",
    "print(f\"Current Working Directory: {Path.cwd()}\")\n",
    "\n",
    "import csv"
   ]
  },
  {
   "cell_type": "code",
   "execution_count": 2,
   "id": "similar-ecology",
   "metadata": {},
   "outputs": [
    {
     "name": "stdout",
     "output_type": "stream",
     "text": [
      "budget_data.csv\n"
     ]
    }
   ],
   "source": [
    "csvpath = Path(\"budget_data.csv\")\n",
    "print(csvpath)"
   ]
  },
  {
   "cell_type": "code",
   "execution_count": 3,
   "id": "golden-raising",
   "metadata": {},
   "outputs": [],
   "source": [
    "# Initialize the directory\n",
    "\n",
    "analysis = {}\n",
    "\n",
    "list_of_change = []\n"
   ]
  },
  {
   "cell_type": "code",
   "execution_count": 14,
   "id": "tropical-payday",
   "metadata": {},
   "outputs": [
    {
     "name": "stdout",
     "output_type": "stream",
     "text": [
      "-2196167\n",
      "-2315.1176470588234\n",
      "1926159\n",
      "86\n",
      "38382578\n"
     ]
    }
   ],
   "source": [
    "#initilize the variables\n",
    "number_of_months = 1\n",
    "change_profit_loss = 0\n",
    "total_profit = 0\n",
    "daily_profit = 0 \n",
    "# prev_pandl = 0\n",
    "\n",
    "\n",
    "# Open the csvfile\n",
    "#store the contents in the variable \n",
    "\n",
    "with open(csvpath, \"r\") as csvfile:\n",
    "    # pass in the csv file to the csv funtion\n",
    "#     csvreader = csv.reader(csvfile, delimiter=\",\" )\n",
    "    csvreader = csv.reader(csvfile)\n",
    "    #read the header\n",
    "    csv_header = next(csvreader)\n",
    "    prev_pandl = int(next(csvreader)[1])\n",
    "    total_profit += prev_pandl \n",
    "    \n",
    "#     print(prev_pandl)\n",
    "    #print(csv_header)\n",
    "    csv_header.append(\"Change Profit Loss\")\n",
    "    csv_header.append(\"total_profit_loss\")\n",
    "#     print(csv_header)\n",
    " \n",
    "    for line in csvreader:\n",
    "        number_of_months += 1 \n",
    "        total_profit = total_profit + int(line[1])\n",
    "        daily_change = int(line[1]) - prev_pandl\n",
    "        list_of_change.append(daily_change)\n",
    "#         print('daily change at',line[0], 'to be', daily_change)\n",
    "        prev_pandl = int(line[1])\n",
    "\n",
    "    average_daily_change = sum(list_of_change) / (len(list_of_change)) \n",
    "    minimum_of_change = min(list_of_change)\n",
    "    max_of_change = max(list_of_change)\n",
    "print(minimum_of_change)\n",
    "print(average_daily_change)\n",
    "print(max_of_change)\n",
    "\n",
    " \n",
    "    \n",
    "#         print('prev_pandl at', line[0], 'to be', prev_pandl)\n",
    "        \n",
    "        #total_change_average = daily_change / number_months\n",
    "        #total_profit = row[1] + monthly_profit\n",
    "    \n",
    "\n",
    "\n",
    "#     for row in csvreader:\n",
    "#         #print(row)\n",
    "        \n",
    "#         total_profit = row [1]\n",
    "#         change_profit_loss = total_profit\n",
    "        \n",
    "#         row.append(total_profit)\n",
    "#         row.append(change_profit_loss)\n",
    "        #print(row)\n",
    "    \n",
    "#     for line in csvreader:  \n",
    "        \n",
    "#         change_profit_loss = total_profit \n",
    "#         number_of_months += 1 \n",
    "  \n",
    "\n",
    "print(number_of_months)\n",
    "print(total_profit)\n",
    "\n",
    "        \n",
    "\n",
    "\n",
    "\n",
    "\n",
    "  \n",
    "    \n",
    "\n",
    "    \n",
    "\n",
    "    \n",
    "    "
   ]
  },
  {
   "cell_type": "code",
   "execution_count": 5,
   "id": "enabling-tribune",
   "metadata": {},
   "outputs": [
    {
     "name": "stdout",
     "output_type": "stream",
     "text": [
      "[116771, -662642, -391430, 379920, 212354, 510239, -428211, -821271, 693918, 416278, -974163, 860159, -1115009, 1033048, 95318, -308093, 99052, -521393, 605450, 231727, -65187, -702716, 177975, -1065544, 1926159, -917805, 898730, -334262, -246499, -64055, -1529236, 1497596, 304914, -635801, 398319, -183161, -37864, -253689, 403655, 94168, 306877, -83000, 210462, -2196167, 1465222, -956983, 1838447, -468003, -64602, 206242, -242155, -449079, 315198, 241099, 111540, 365942, -219310, -368665, 409837, 151210, -110244, -341938, -1212159, 683246, -70825, 335594, 417334, -272194, -236462, 657432, -211262, -128237, -1750387, 925441, 932089, -311434, 267252, -1876758, 1733696, 198551, -665765, 693229, -734926, 77242, 532869]\n"
     ]
    },
    {
     "data": {
      "text/plain": [
       "85"
      ]
     },
     "execution_count": 5,
     "metadata": {},
     "output_type": "execute_result"
    }
   ],
   "source": [
    "print(list_of_change)\n",
    "len(list_of_change)"
   ]
  },
  {
   "cell_type": "code",
   "execution_count": 6,
   "id": "continued-operations",
   "metadata": {},
   "outputs": [
    {
     "ename": "SyntaxError",
     "evalue": "invalid syntax (<ipython-input-6-9e1be6ad46ee>, line 15)",
     "output_type": "error",
     "traceback": [
      "\u001b[0;36m  File \u001b[0;32m\"<ipython-input-6-9e1be6ad46ee>\"\u001b[0;36m, line \u001b[0;32m15\u001b[0m\n\u001b[0;31m    for line in csvreader:\u001b[0m\n\u001b[0m                         ^\u001b[0m\n\u001b[0;31mSyntaxError\u001b[0m\u001b[0;31m:\u001b[0m invalid syntax\n"
     ]
    }
   ],
   "source": [
    "     for row in csvreader:\n",
    "\n",
    "        monthly_revenue = int(row[2]\n",
    "        #total_profit_loss = 0\n",
    " \n",
    "    \n",
    "    \n",
    "    # read with for statement\n",
    " \n",
    "    #for line in csvreader:\n",
    "     #   number_of_months += 1\n",
    "        \n",
    "#print(number_of_months)\n",
    "      \n",
    "    for line in csvreader:\n",
    "        \n",
    "        change_profit_loss = \n",
    "        \n",
    "        #Profit/Losses = int(row[2]) \n",
    "        \n",
    "        #how many months? \n",
    "\n",
    "        #Profit/Losses = int(row[2}])\n",
    "        #row.append(Counter)\n",
    "        #records.append(row)\n",
    "        #print(row)\n",
    "        #print(number_of_months)"
   ]
  },
  {
   "cell_type": "code",
   "execution_count": 9,
   "id": "spiritual-fitting",
   "metadata": {},
   "outputs": [],
   "source": [
    "#The total number of months included in the dataset.\n",
    "#The net total amount of Profit/Losses over the entire period.\n",
    "#The average of the changes in Profit/Losses over the entire period.\n",
    "#The greatest increase in profits (date and amount) over the entire period.\n",
    "#The greatest decrease in losses (date and amount) over the entire period.#initialze the Variables\n",
    "months = 0\n",
    "Net_Profit_Losses = 0\n",
    "Average_Change_Profit_Losses = 0\n",
    "Greatest_Increase_Profits_Losses = 0\n",
    "Greatest_Decrease_Profits_Losses = 0"
   ]
  },
  {
   "cell_type": "code",
   "execution_count": null,
   "id": "accepting-tradition",
   "metadata": {},
   "outputs": [],
   "source": []
  }
 ],
 "metadata": {
  "kernelspec": {
   "display_name": "Python 3",
   "language": "python",
   "name": "python3"
  },
  "language_info": {
   "codemirror_mode": {
    "name": "ipython",
    "version": 3
   },
   "file_extension": ".py",
   "mimetype": "text/x-python",
   "name": "python",
   "nbconvert_exporter": "python",
   "pygments_lexer": "ipython3",
   "version": "3.8.5"
  }
 },
 "nbformat": 4,
 "nbformat_minor": 5
}
