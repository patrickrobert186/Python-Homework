{
 "cells": [
  {
   "cell_type": "code",
   "execution_count": 15,
   "id": "defensive-filling",
   "metadata": {},
   "outputs": [
    {
     "name": "stdout",
     "output_type": "stream",
     "text": [
      "im\n"
     ]
    }
   ],
   "source": [
    "from PIL import Image\n",
    "im = Image.open(\"Images/revenue-per-lead.jpg\")\n",
    "im.show()\n",
    "print(\"im\")"
   ]
  },
  {
   "cell_type": "code",
   "execution_count": null,
   "id": "aggregate-burns",
   "metadata": {},
   "outputs": [],
   "source": []
  }
 ],
 "metadata": {
  "kernelspec": {
   "display_name": "Python 3",
   "language": "python",
   "name": "python3"
  },
  "language_info": {
   "codemirror_mode": {
    "name": "ipython",
    "version": 3
   },
   "file_extension": ".py",
   "mimetype": "text/x-python",
   "name": "python",
   "nbconvert_exporter": "python",
   "pygments_lexer": "ipython3",
   "version": "3.8.5"
  }
 },
 "nbformat": 4,
 "nbformat_minor": 5
}
