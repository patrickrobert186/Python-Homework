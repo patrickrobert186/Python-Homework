{
 "cells": [
  {
   "cell_type": "code",
   "execution_count": 2,
   "id": "specialized-proxy",
   "metadata": {},
   "outputs": [
    {
     "name": "stdout",
     "output_type": "stream",
     "text": [
      "Resources/menu_data.csv\n",
      "Resources/sales_data.csv\n"
     ]
    }
   ],
   "source": [
    "#Ichiban Ramen, the best ramen around\n",
    "#PyRamen Homework\n",
    "\n",
    "#import libraries\n",
    "\n",
    "from pathlib import Path\n",
    "import csv\n",
    "\n",
    "#set file pathfiles for menu_data and sales_data\n",
    "\n",
    "menu_file_path = Path('Resources/menu_data.csv')\n",
    "sales_file_path = Path('Resources/sales_data.csv')\n",
    "print(menu_file_path)\n",
    "print(sales_file_path)\n",
    "\n",
    "#start list objects to store the menu and sales info\n",
    "\n",
    "menu = []\n",
    "sales = []\n",
    "profit_per_item = []\n",
    "\n",
    "\n"
   ]
  },
  {
   "cell_type": "code",
   "execution_count": 3,
   "id": "cubic-syria",
   "metadata": {},
   "outputs": [
    {
     "name": "stdout",
     "output_type": "stream",
     "text": [
      "<class '_io.TextIOWrapper'>\n",
      "<class '_csv.reader'>\n",
      "['item', 'category', 'description', 'price', 'cost']\n"
     ]
    }
   ],
   "source": [
    "#read in the menu data into the menu list\n",
    "\n",
    "with open(menu_file_path, \"r\") as csvfile:\n",
    "    \n",
    "    print(type(csvfile))\n",
    "\n",
    "\n",
    "    #pass in the csv file to the the cvsreader()function\n",
    "    # (with a comma as the delimiter) and return teh csvreader object\n",
    "    csvreader = csv.reader(csvfile)\n",
    "    print(type(csvreader))\n",
    "    \n",
    "    #read the header row \n",
    "    csv_header = next(csvreader)\n",
    "\n",
    "    \n",
    "    #print(csv_header)\n",
    "    print(csv_header)\n",
    "    \n",
    "    for row in csvreader:\n",
    "#         print(row)\n",
    "        item = row[0]\n",
    "        unit_price = float(row[3])\n",
    "        unit_cost = int(row[4])\n",
    "        profit = unit_price - unit_cost\n",
    "        menu.append(item)\n",
    "        menu.append(unit_price)\n",
    "        menu.append(unit_cost)\n",
    "        menu.append(profit)\n",
    "\n"
   ]
  },
  {
   "cell_type": "code",
   "execution_count": 17,
   "id": "computational-synthetic",
   "metadata": {},
   "outputs": [
    {
     "name": "stdout",
     "output_type": "stream",
     "text": [
      "['Line_Item_ID', 'Date', 'Credit_Card_Number', 'Quantity', 'Menu_Item']\n",
      "shio ramen\n"
     ]
    }
   ],
   "source": [
    "with open(sales_file_path, \"r\") as csvfile:\n",
    "   \n",
    "    #pass in the csv file to the the cvsreader()function\n",
    "    # (with a comma as the delimiter) and return the csvreader object\n",
    "    csvreader = csv.reader(csvfile)\n",
    "    \n",
    "    #read teh header row\n",
    "    csv_header = next(csvreader)\n",
    "    print(csv_header)\n",
    "    \n",
    "    #for loop to build data\n",
    "    for row in csvreader:\n",
    "        quantity = row[3]\n",
    "        menu_item = row[4]\n",
    "        sales.append(menu_item)\n",
    "        sales.append(quantity)\n",
    "   \n",
    "print(sales[20])\n",
    "        "
   ]
  },
  {
   "cell_type": "code",
   "execution_count": 24,
   "id": "plastic-services",
   "metadata": {},
   "outputs": [
    {
     "ename": "AttributeError",
     "evalue": "'dict' object has no attribute 'dict_append'",
     "output_type": "error",
     "traceback": [
      "\u001b[0;31m---------------------------------------------------------------------------\u001b[0m",
      "\u001b[0;31mAttributeError\u001b[0m                            Traceback (most recent call last)",
      "\u001b[0;32m<ipython-input-24-9b7c70394606>\u001b[0m in \u001b[0;36m<module>\u001b[0;34m\u001b[0m\n\u001b[1;32m      6\u001b[0m     \u001b[0mmenu_item\u001b[0m \u001b[0;34m=\u001b[0m \u001b[0mmenu_item\u001b[0m\u001b[0;34m\u001b[0m\u001b[0;34m\u001b[0m\u001b[0m\n\u001b[1;32m      7\u001b[0m     \u001b[0mquantity\u001b[0m \u001b[0;34m=\u001b[0m \u001b[0mquantity\u001b[0m\u001b[0;34m\u001b[0m\u001b[0;34m\u001b[0m\u001b[0m\n\u001b[0;32m----> 8\u001b[0;31m     \u001b[0mreport\u001b[0m\u001b[0;34m.\u001b[0m\u001b[0mdict_append\u001b[0m\u001b[0;34m(\u001b[0m\u001b[0mmenu_item\u001b[0m\u001b[0;34m)\u001b[0m\u001b[0;34m\u001b[0m\u001b[0;34m\u001b[0m\u001b[0m\n\u001b[0m\u001b[1;32m      9\u001b[0m \u001b[0;34m\u001b[0m\u001b[0m\n\u001b[1;32m     10\u001b[0m \u001b[0mprint\u001b[0m\u001b[0;34m(\u001b[0m\u001b[0mreport_row_count\u001b[0m\u001b[0;34m)\u001b[0m\u001b[0;34m\u001b[0m\u001b[0;34m\u001b[0m\u001b[0m\n",
      "\u001b[0;31mAttributeError\u001b[0m: 'dict' object has no attribute 'dict_append'"
     ]
    }
   ],
   "source": [
    "report = {}\n",
    "report_row_count = 0\n",
    "\n",
    "for row in sales:\n",
    "    report_row_count =+ 1\n",
    "    menu_item = menu_item\n",
    "    quantity = quantity\n",
    "    report.dict_append(menu_item)\n",
    "\n",
    "print(report_row_count)\n",
    "        \n"
   ]
  },
  {
   "cell_type": "code",
   "execution_count": null,
   "id": "grateful-cooper",
   "metadata": {},
   "outputs": [],
   "source": []
  }
 ],
 "metadata": {
  "kernelspec": {
   "display_name": "Python 3",
   "language": "python",
   "name": "python3"
  },
  "language_info": {
   "codemirror_mode": {
    "name": "ipython",
    "version": 3
   },
   "file_extension": ".py",
   "mimetype": "text/x-python",
   "name": "python",
   "nbconvert_exporter": "python",
   "pygments_lexer": "ipython3",
   "version": "3.8.5"
  }
 },
 "nbformat": 4,
 "nbformat_minor": 5
}
