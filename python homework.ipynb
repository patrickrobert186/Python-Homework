{
 "cells": [
  {
   "cell_type": "code",
   "execution_count": 1,
   "id": "leading-ridge",
   "metadata": {},
   "outputs": [
    {
     "name": "stdout",
     "output_type": "stream",
     "text": [
      "Current Working Directory: /Users/patrickgibbons/Documents/02_phython_homework\n"
     ]
    }
   ],
   "source": [
    "#import the data \n",
    "\n",
    "from pathlib import Path\n",
    "\n",
    "\n",
    "print(f\"Current Working Directory: {Path.cwd()}\")\n",
    "\n",
    "import csv"
   ]
  },
  {
   "cell_type": "code",
   "execution_count": 2,
   "id": "concerned-house",
   "metadata": {},
   "outputs": [
    {
     "name": "stdout",
     "output_type": "stream",
     "text": [
      "../02_phython_homework/budget_data.csv\n"
     ]
    }
   ],
   "source": [
    "csvpath = Path(\"../02_phython_homework/budget_data.csv\")\n",
    "print(csvpath)"
   ]
  },
  {
   "cell_type": "code",
   "execution_count": 3,
   "id": "understanding-opportunity",
   "metadata": {},
   "outputs": [],
   "source": [
    "# Initialize the directo\n",
    "\n",
    "analysis = {}\n",
    "\n",
    "records = []\n"
   ]
  },
  {
   "cell_type": "code",
   "execution_count": 19,
   "id": "unable-mileage",
   "metadata": {},
   "outputs": [
    {
     "name": "stdout",
     "output_type": "stream",
     "text": [
      "['Date', 'Profit/Losses', 'Change Profit Loss', 'total_profit_loss']\n",
      "86\n",
      "671099\n"
     ]
    }
   ],
   "source": [
    "#initilize the variables\n",
    "number_of_months = 0\n",
    "change_profit_loss = 0\n",
    "total_profit= 0\n",
    "\n",
    "\n",
    "# Open the csvfile\n",
    "#store teh contents in the variable \n",
    "\n",
    "with open(csvpath, \"r\") as csvfile:\n",
    "    # pass in the csv file to the csv funtion\n",
    "    csvreader = csv.reader(csvfile, delimiter=\",\" )\n",
    "    \n",
    "    #read the header\n",
    "    csv_header = next(csvreader)\n",
    "    \n",
    "    \n",
    "    #print(csv_header)\n",
    "    csv_header.append(\"Change Profit Loss\")\n",
    "    csv_header.append(\"total_profit_loss\")\n",
    "    print(csv_header)\n",
    "    \n",
    "    for line in csvreader:\n",
    "        number_of_months += 1 \n",
    "        total_profit = line[1]\n",
    "        #total_profit = row[1] + monthly_profit\n",
    "   \n",
    "\n",
    "    for row in csvreader:\n",
    "        #print(row)\n",
    "        \n",
    "        total_profit = row [1]\n",
    "        change_profit_loss = total_profit\n",
    "        \n",
    "        row.append(total_profit)\n",
    "        row.append(change_profit_loss)\n",
    "        #print(row)\n",
    "    \n",
    "    for line in csvreader:  \n",
    "        \n",
    "        change_profit_loss = total_profit \n",
    "        number_of_months += 1 \n",
    "  \n",
    "\n",
    "print(number_of_months)\n",
    "print(total_profit)\n",
    "\n",
    "        \n",
    "\n",
    "\n",
    "\n",
    "\n",
    "  \n",
    "    \n",
    "\n",
    "    \n",
    "\n",
    "    \n",
    "    "
   ]
  },
  {
   "cell_type": "code",
   "execution_count": null,
   "id": "fuzzy-companion",
   "metadata": {},
   "outputs": [],
   "source": [
    "     for row in csvreader:\n",
    "\n",
    "        monthly_revenue = int(row[2]\n",
    "        #total_profit_loss = 0\n",
    " \n",
    "    \n",
    "    \n",
    "    # read with for statement\n",
    " \n",
    "    #for line in csvreader:\n",
    "     #   number_of_months += 1\n",
    "        \n",
    "#print(number_of_months)\n",
    "      \n",
    "    for line in csvreader:\n",
    "        \n",
    "        change_profit_loss = \n",
    "        \n",
    "        #Profit/Losses = int(row[2]) \n",
    "        \n",
    "        #how many months? \n",
    "\n",
    "        #Profit/Losses = int(row[2}])\n",
    "        #row.append(Counter)\n",
    "        #records.append(row)\n",
    "        #print(row)\n",
    "        #print(number_of_months)"
   ]
  },
  {
   "cell_type": "code",
   "execution_count": 9,
   "id": "august-trunk",
   "metadata": {},
   "outputs": [],
   "source": [
    "#The total number of months included in the dataset.\n",
    "#The net total amount of Profit/Losses over the entire period.\n",
    "#The average of the changes in Profit/Losses over the entire period.\n",
    "#The greatest increase in profits (date and amount) over the entire period.\n",
    "#The greatest decrease in losses (date and amount) over the entire period.#initialze the Variables\n",
    "months = 0\n",
    "Net_Profit_Losses = 0\n",
    "Average_Change_Profit_Losses = 0\n",
    "Greatest_Increase_Profits_Losses = 0\n",
    "Greatest_Decrease_Profits_Losses = 0"
   ]
  },
  {
   "cell_type": "code",
   "execution_count": null,
   "id": "vulnerable-eleven",
   "metadata": {},
   "outputs": [],
   "source": []
  }
 ],
 "metadata": {
  "kernelspec": {
   "display_name": "Python 3",
   "language": "python",
   "name": "python3"
  },
  "language_info": {
   "codemirror_mode": {
    "name": "ipython",
    "version": 3
   },
   "file_extension": ".py",
   "mimetype": "text/x-python",
   "name": "python",
   "nbconvert_exporter": "python",
   "pygments_lexer": "ipython3",
   "version": "3.8.5"
  }
 },
 "nbformat": 4,
 "nbformat_minor": 5
}
